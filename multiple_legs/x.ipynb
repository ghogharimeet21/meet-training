{
 "cells": [
  {
   "cell_type": "code",
   "execution_count": 15,
   "metadata": {},
   "outputs": [
    {
     "name": "stdout",
     "output_type": "stream",
     "text": [
      "3\n"
     ]
    }
   ],
   "source": [
    "from datetime import datetime\n",
    "\n",
    "date = datetime.strptime(\"12MAR25\", \"%d%b%y\")\n",
    "\n",
    "print(date.month)"
   ]
  },
  {
   "cell_type": "code",
   "execution_count": 1,
   "metadata": {},
   "outputs": [
    {
     "name": "stdout",
     "output_type": "stream",
     "text": [
      "[0, 1, 2, 3, 4, 5, 6, 7, 8, 9]\n"
     ]
    }
   ],
   "source": [
    "print(list(range(10)))"
   ]
  },
  {
   "cell_type": "code",
   "execution_count": 2,
   "metadata": {},
   "outputs": [],
   "source": [
    "data = {'NIFTY29MAR2317700CE': {'': '', 'Symbol': 'NIFTY29MAR2317700CE', 'Date': '3/8/2023', 'Time': '15:30:00', 'Open': '243', 'High': '243', 'Low': '243', 'Close': '243', 'Volume': '3501650', 'Open Interest': '1711000', 'TickTime': '3/8/2023 15:30', 'expiry': '29MAR23'}}"
   ]
  },
  {
   "cell_type": "code",
   "execution_count": 6,
   "metadata": {},
   "outputs": [
    {
     "name": "stdout",
     "output_type": "stream",
     "text": [
      "{'NIFTY29MAR2317700CE': {'': '', 'Symbol': 'NIFTY29MAR2317700CE', 'Date': '3/8/2023', 'Time': '15:30:00', 'Open': '243', 'High': '243', 'Low': '243', 'Close': '243', 'Volume': '3501650', 'Open Interest': '1711000', 'TickTime': '3/8/2023 15:30', 'expiry': '29MAR23'}}\n"
     ]
    }
   ],
   "source": [
    "print(data)"
   ]
  },
  {
   "cell_type": "code",
   "execution_count": 7,
   "metadata": {},
   "outputs": [
    {
     "name": "stdout",
     "output_type": "stream",
     "text": [
      "{456, 123}\n"
     ]
    }
   ],
   "source": []
  }
 ],
 "metadata": {
  "kernelspec": {
   "display_name": "Python 3",
   "language": "python",
   "name": "python3"
  },
  "language_info": {
   "codemirror_mode": {
    "name": "ipython",
    "version": 3
   },
   "file_extension": ".py",
   "mimetype": "text/x-python",
   "name": "python",
   "nbconvert_exporter": "python",
   "pygments_lexer": "ipython3",
   "version": "3.13.1"
  }
 },
 "nbformat": 4,
 "nbformat_minor": 2
}
