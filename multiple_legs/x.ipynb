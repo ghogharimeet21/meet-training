{
 "cells": [
  {
   "cell_type": "code",
   "execution_count": null,
   "metadata": {},
   "outputs": [],
   "source": [
    "from datetime import datetime, timedelta\n",
    "\n",
    "listz = [\"15MAR23\", \"21MAR23\", \"25MAR23\"]\n",
    "\n",
    "date = datetime.strptime(\"12MAR23\", \"%d%b%y\").date()\n",
    "\n",
    "all_lbjs = []\n",
    "for date in listz:\n",
    "    obj = datetime.strptime(date, \"%d%b%y\")\n",
    "    all_lbjs.append(obj)\n",
    "\n",
    "while True:\n",
    "    for date in listz:\n",
    "        ...\n",
    "    \n"
   ]
  }
 ],
 "metadata": {
  "kernelspec": {
   "display_name": "Python 3",
   "language": "python",
   "name": "python3"
  },
  "language_info": {
   "codemirror_mode": {
    "name": "ipython",
    "version": 3
   },
   "file_extension": ".py",
   "mimetype": "text/x-python",
   "name": "python",
   "nbconvert_exporter": "python",
   "pygments_lexer": "ipython3",
   "version": "3.13.1"
  }
 },
 "nbformat": 4,
 "nbformat_minor": 2
}
