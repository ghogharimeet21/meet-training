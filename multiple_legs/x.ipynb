{
 "cells": [
  {
   "cell_type": "code",
   "execution_count": 15,
   "metadata": {},
   "outputs": [
    {
     "name": "stdout",
     "output_type": "stream",
     "text": [
      "3\n"
     ]
    }
   ],
   "source": [
    "from datetime import datetime\n",
    "\n",
    "date = datetime.strptime(\"12MAR25\", \"%d%b%y\")\n",
    "\n",
    "print(date.month)"
   ]
  },
  {
   "cell_type": "code",
   "execution_count": 1,
   "metadata": {},
   "outputs": [
    {
     "name": "stdout",
     "output_type": "stream",
     "text": [
      "[0, 1, 2, 3, 4, 5, 6, 7, 8, 9]\n"
     ]
    }
   ],
   "source": [
    "print(list(range(10)))"
   ]
  },
  {
   "cell_type": "code",
   "execution_count": 2,
   "metadata": {},
   "outputs": [],
   "source": [
    "data = {'NIFTY29MAR2317700CE': {'': '', 'Symbol': 'NIFTY29MAR2317700CE', 'Date': '3/8/2023', 'Time': '15:30:00', 'Open': '243', 'High': '243', 'Low': '243', 'Close': '243', 'Volume': '3501650', 'Open Interest': '1711000', 'TickTime': '3/8/2023 15:30', 'expiry': '29MAR23'}}"
   ]
  },
  {
   "cell_type": "code",
   "execution_count": 6,
   "metadata": {},
   "outputs": [
    {
     "name": "stdout",
     "output_type": "stream",
     "text": [
      "{'NIFTY29MAR2317700CE': {'': '', 'Symbol': 'NIFTY29MAR2317700CE', 'Date': '3/8/2023', 'Time': '15:30:00', 'Open': '243', 'High': '243', 'Low': '243', 'Close': '243', 'Volume': '3501650', 'Open Interest': '1711000', 'TickTime': '3/8/2023 15:30', 'expiry': '29MAR23'}}\n"
     ]
    }
   ],
   "source": [
    "print(data)"
   ]
  },
  {
   "cell_type": "code",
   "execution_count": 7,
   "metadata": {},
   "outputs": [
    {
     "name": "stdout",
     "output_type": "stream",
     "text": [
      "{456, 123}\n"
     ]
    }
   ],
   "source": []
  },
  {
   "cell_type": "code",
   "execution_count": 5,
   "metadata": {},
   "outputs": [
    {
     "name": "stdout",
     "output_type": "stream",
     "text": [
      "True\n",
      "+\n"
     ]
    }
   ],
   "source": [
    "x = \"atm + 1\"\n",
    "\n",
    "print(x.__contains__(\"+\" or \"-\"))\n",
    "\n",
    "ind = x.find(\"+\" or \"-\")\n",
    "\n",
    "print(x[ind])"
   ]
  },
  {
   "cell_type": "code",
   "execution_count": 6,
   "metadata": {},
   "outputs": [],
   "source": [
    "def take_closest(target, num_list):\n",
    "    \"\"\"Return the closest number from the given list to the target.\"\"\"\n",
    "    return min(num_list, key=lambda x: abs(float(x) - target))\n",
    "\n",
    "def get_spot_prices_and_expires(data, index, entry_time,  extract_expiry, spot_price_rows):\n",
    "    strikescall = []\n",
    "    strikesput = []\n",
    "    weekly_exps = []\n",
    "    monthly_exps = []\n",
    "    \n",
    "\n",
    "    spot_price = None\n",
    "    for row in spot_price_rows:\n",
    "        if row[\"Time\"] == entry_time:\n",
    "            spot_price = float(row[\"Open\"])\n",
    "            # print(\"Spot_price =\", spot_price)\n",
    "            break\n",
    "\n",
    "    for block in data:\n",
    "        if block[0][\"Symbol\"][-2:] == \"CE\":\n",
    "            for row in block:\n",
    "                strike_price = row[\"Symbol\"].replace(index, \"\").replace(\"CE\", \"\")[7:]\n",
    "                strikescall.append(strike_price)\n",
    "            \n",
    "            weekly_exp, monthly_exp = extract_expiry(block, index, \"CE\")\n",
    "            weekly_exps.append(weekly_exp)\n",
    "            monthly_exps.append(monthly_exp)\n",
    "\n",
    "        elif block[0][\"Symbol\"][-2:] == \"PE\":\n",
    "            for row in block:\n",
    "                strike_price = row[\"Symbol\"].replace(index, \"\").replace(\"CE\", \"\")[7:]\n",
    "                strikesput.append(strike_price)\n",
    "\n",
    "            weekly_exp, monthly_exp = extract_expiry(block, index, \"PE\")\n",
    "            weekly_exps.append(weekly_exp)\n",
    "            monthly_exps.append(monthly_exp)"
   ]
  },
  {
   "cell_type": "code",
   "execution_count": 7,
   "metadata": {},
   "outputs": [
    {
     "name": "stdout",
     "output_type": "stream",
     "text": [
      "24.3\n"
     ]
    }
   ],
   "source": [
    "s = 12\n",
    "d = 12.3\n",
    "\n",
    "print(s+d)"
   ]
  },
  {
   "cell_type": "code",
   "execution_count": 10,
   "metadata": {},
   "outputs": [],
   "source": []
  },
  {
   "cell_type": "code",
   "execution_count": 11,
   "metadata": {},
   "outputs": [],
   "source": [
    "def write_in_jsonFile(result, outputpath, fileName):\n",
    "    import json\n",
    "    jsondata = json.dumps(result, indent=4)\n",
    "    with open(f\"./{outputpath}/{fileName}.json\", \"w\") as file:\n",
    "        file.write(jsondata)"
   ]
  },
  {
   "cell_type": "code",
   "execution_count": 12,
   "metadata": {},
   "outputs": [],
   "source": [
    "write_in_jsonFile(d, \"outputdata\", \"data\")"
   ]
  },
  {
   "cell_type": "code",
   "execution_count": 13,
   "metadata": {},
   "outputs": [
    {
     "name": "stdout",
     "output_type": "stream",
     "text": [
      "The original dictionary is: {'GFG': {'rate': 4, 'since': 2012}}\n",
      "Dictionary after nested key update: {'GFG': {'rate': 4, 'since': 2012, 'rank': {'rank': 1}}}\n"
     ]
    }
   ],
   "source": [
    "def add_keys_nested_dict(d, keys):\n",
    "\tfor key in keys:\n",
    "\t\tif key not in d:\n",
    "\t\t\td[key] = {}\n",
    "\t\td = d[key]\n",
    "\td.setdefault(keys[-1], 1)\n",
    "\n",
    "\n",
    "# initializing dictionary\n",
    "test_dict = {'GFG': {'rate': 4, 'since': 2012}}\n",
    "\n",
    "# printing original dictionary\n",
    "print(\"The original dictionary is: \" + str(test_dict))\n",
    "\n",
    "# Add keys to nested dictionary using for loop\n",
    "add_keys_nested_dict(test_dict, ['GFG', 'rank'])\n",
    "\n",
    "# printing result\n",
    "print(\"Dictionary after nested key update: \" + str(test_dict))\n"
   ]
  },
  {
   "cell_type": "code",
   "execution_count": 1,
   "metadata": {},
   "outputs": [],
   "source": [
    "path = \"dataset/2405236.csv\"\n",
    "date = \"2405236\"\n",
    "\n",
    "if path in date:\n",
    "    print(\"YES\")"
   ]
  },
  {
   "cell_type": "code",
   "execution_count": 10,
   "metadata": {},
   "outputs": [
    {
     "data": {
      "text/plain": [
       "'03AUG23'"
      ]
     },
     "execution_count": 10,
     "metadata": {},
     "output_type": "execute_result"
    }
   ],
   "source": [
    "from datetime import datetime\n",
    "\n",
    "datetime.strftime(datetime.strptime(\"3/8/2023\", \"%d/%m/%Y\"), \"%d%b%y\").upper()"
   ]
  },
  {
   "cell_type": "code",
   "execution_count": 14,
   "metadata": {},
   "outputs": [
    {
     "name": "stdout",
     "output_type": "stream",
     "text": [
      "java\n"
     ]
    }
   ],
   "source": [
    "def get_var_name(var):\n",
    "    for name, value in globals().items():\n",
    "        if value is var:\n",
    "            return name\n",
    "        \n",
    "java = []\n",
    "\n",
    "print(get_var_name(java))"
   ]
  },
  {
   "cell_type": "code",
   "execution_count": null,
   "metadata": {},
   "outputs": [],
   "source": []
  }
 ],
 "metadata": {
  "kernelspec": {
   "display_name": "Python 3",
   "language": "python",
   "name": "python3"
  },
  "language_info": {
   "codemirror_mode": {
    "name": "ipython",
    "version": 3
   },
   "file_extension": ".py",
   "mimetype": "text/x-python",
   "name": "python",
   "nbconvert_exporter": "python",
   "pygments_lexer": "ipython3",
   "version": "3.13.1"
  }
 },
 "nbformat": 4,
 "nbformat_minor": 2
}
