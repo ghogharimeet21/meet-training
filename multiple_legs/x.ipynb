{
 "cells": [
  {
   "cell_type": "code",
   "execution_count": 15,
   "metadata": {},
   "outputs": [
    {
     "name": "stdout",
     "output_type": "stream",
     "text": [
      "3\n"
     ]
    }
   ],
   "source": [
    "from datetime import datetime\n",
    "\n",
    "date = datetime.strptime(\"12MAR25\", \"%d%b%y\")\n",
    "\n",
    "print(date.month)"
   ]
  },
  {
   "cell_type": "code",
   "execution_count": 1,
   "metadata": {},
   "outputs": [
    {
     "name": "stdout",
     "output_type": "stream",
     "text": [
      "[0, 1, 2, 3, 4, 5, 6, 7, 8, 9]\n"
     ]
    }
   ],
   "source": [
    "print(list(range(10)))"
   ]
  },
  {
   "cell_type": "code",
   "execution_count": 2,
   "metadata": {},
   "outputs": [],
   "source": [
    "data = {'NIFTY29MAR2317700CE': {'': '', 'Symbol': 'NIFTY29MAR2317700CE', 'Date': '3/8/2023', 'Time': '15:30:00', 'Open': '243', 'High': '243', 'Low': '243', 'Close': '243', 'Volume': '3501650', 'Open Interest': '1711000', 'TickTime': '3/8/2023 15:30', 'expiry': '29MAR23'}}"
   ]
  },
  {
   "cell_type": "code",
   "execution_count": 6,
   "metadata": {},
   "outputs": [
    {
     "name": "stdout",
     "output_type": "stream",
     "text": [
      "{'NIFTY29MAR2317700CE': {'': '', 'Symbol': 'NIFTY29MAR2317700CE', 'Date': '3/8/2023', 'Time': '15:30:00', 'Open': '243', 'High': '243', 'Low': '243', 'Close': '243', 'Volume': '3501650', 'Open Interest': '1711000', 'TickTime': '3/8/2023 15:30', 'expiry': '29MAR23'}}\n"
     ]
    }
   ],
   "source": [
    "print(data)"
   ]
  },
  {
   "cell_type": "code",
   "execution_count": 7,
   "metadata": {},
   "outputs": [
    {
     "name": "stdout",
     "output_type": "stream",
     "text": [
      "{456, 123}\n"
     ]
    }
   ],
   "source": []
  },
  {
   "cell_type": "code",
   "execution_count": 5,
   "metadata": {},
   "outputs": [
    {
     "name": "stdout",
     "output_type": "stream",
     "text": [
      "True\n",
      "+\n"
     ]
    }
   ],
   "source": [
    "x = \"atm + 1\"\n",
    "\n",
    "print(x.__contains__(\"+\" or \"-\"))\n",
    "\n",
    "ind = x.find(\"+\" or \"-\")\n",
    "\n",
    "print(x[ind])"
   ]
  },
  {
   "cell_type": "code",
   "execution_count": 6,
   "metadata": {},
   "outputs": [],
   "source": [
    "def take_closest(target, num_list):\n",
    "    \"\"\"Return the closest number from the given list to the target.\"\"\"\n",
    "    return min(num_list, key=lambda x: abs(float(x) - target))\n",
    "\n",
    "def get_spot_prices_and_expires(data, index, entry_time,  extract_expiry, spot_price_rows):\n",
    "    strikescall = []\n",
    "    strikesput = []\n",
    "    weekly_exps = []\n",
    "    monthly_exps = []\n",
    "    \n",
    "\n",
    "    spot_price = None\n",
    "    for row in spot_price_rows:\n",
    "        if row[\"Time\"] == entry_time:\n",
    "            spot_price = float(row[\"Open\"])\n",
    "            # print(\"Spot_price =\", spot_price)\n",
    "            break\n",
    "\n",
    "    for block in data:\n",
    "        if block[0][\"Symbol\"][-2:] == \"CE\":\n",
    "            for row in block:\n",
    "                strike_price = row[\"Symbol\"].replace(index, \"\").replace(\"CE\", \"\")[7:]\n",
    "                strikescall.append(strike_price)\n",
    "            \n",
    "            weekly_exp, monthly_exp = extract_expiry(block, index, \"CE\")\n",
    "            weekly_exps.append(weekly_exp)\n",
    "            monthly_exps.append(monthly_exp)\n",
    "\n",
    "        elif block[0][\"Symbol\"][-2:] == \"PE\":\n",
    "            for row in block:\n",
    "                strike_price = row[\"Symbol\"].replace(index, \"\").replace(\"CE\", \"\")[7:]\n",
    "                strikesput.append(strike_price)\n",
    "\n",
    "            weekly_exp, monthly_exp = extract_expiry(block, index, \"PE\")\n",
    "            weekly_exps.append(weekly_exp)\n",
    "            monthly_exps.append(monthly_exp)"
   ]
  },
  {
   "cell_type": "code",
   "execution_count": 7,
   "metadata": {},
   "outputs": [
    {
     "name": "stdout",
     "output_type": "stream",
     "text": [
      "24.3\n"
     ]
    }
   ],
   "source": [
    "s = 12\n",
    "d = 12.3\n",
    "\n",
    "print(s+d)"
   ]
  },
  {
   "cell_type": "code",
   "execution_count": 10,
   "metadata": {},
   "outputs": [],
   "source": []
  },
  {
   "cell_type": "code",
   "execution_count": 11,
   "metadata": {},
   "outputs": [],
   "source": [
    "def write_in_jsonFile(result, outputpath, fileName):\n",
    "    import json\n",
    "    jsondata = json.dumps(result, indent=4)\n",
    "    with open(f\"./{outputpath}/{fileName}.json\", \"w\") as file:\n",
    "        file.write(jsondata)"
   ]
  },
  {
   "cell_type": "code",
   "execution_count": 12,
   "metadata": {},
   "outputs": [],
   "source": [
    "write_in_jsonFile(d, \"outputdata\", \"data\")"
   ]
  },
  {
   "cell_type": "code",
   "execution_count": 13,
   "metadata": {},
   "outputs": [
    {
     "name": "stdout",
     "output_type": "stream",
     "text": [
      "The original dictionary is: {'GFG': {'rate': 4, 'since': 2012}}\n",
      "Dictionary after nested key update: {'GFG': {'rate': 4, 'since': 2012, 'rank': {'rank': 1}}}\n"
     ]
    }
   ],
   "source": [
    "def add_keys_nested_dict(d, keys):\n",
    "\tfor key in keys:\n",
    "\t\tif key not in d:\n",
    "\t\t\td[key] = {}\n",
    "\t\td = d[key]\n",
    "\td.setdefault(keys[-1], 1)\n",
    "\n",
    "\n",
    "# initializing dictionary\n",
    "test_dict = {'GFG': {'rate': 4, 'since': 2012}}\n",
    "\n",
    "# printing original dictionary\n",
    "print(\"The original dictionary is: \" + str(test_dict))\n",
    "\n",
    "# Add keys to nested dictionary using for loop\n",
    "add_keys_nested_dict(test_dict, ['GFG', 'rank'])\n",
    "\n",
    "# printing result\n",
    "print(\"Dictionary after nested key update: \" + str(test_dict))\n"
   ]
  },
  {
   "cell_type": "code",
   "execution_count": 1,
   "metadata": {},
   "outputs": [],
   "source": [
    "path = \"dataset/2405236.csv\"\n",
    "date = \"2405236\"\n",
    "\n",
    "if path in date:\n",
    "    print(\"YES\")"
   ]
  },
  {
   "cell_type": "code",
   "execution_count": 10,
   "metadata": {},
   "outputs": [
    {
     "data": {
      "text/plain": [
       "'03AUG23'"
      ]
     },
     "execution_count": 10,
     "metadata": {},
     "output_type": "execute_result"
    }
   ],
   "source": [
    "from datetime import datetime\n",
    "\n",
    "datetime.strftime(datetime.strptime(\"3/8/2023\", \"%d/%m/%Y\"), \"%d%b%y\").upper()"
   ]
  },
  {
   "cell_type": "code",
   "execution_count": 14,
   "metadata": {},
   "outputs": [
    {
     "name": "stdout",
     "output_type": "stream",
     "text": [
      "java\n"
     ]
    }
   ],
   "source": [
    "def get_var_name(var):\n",
    "    for name, value in globals().items():\n",
    "        if value is var:\n",
    "            return name\n",
    "        \n",
    "java = []\n",
    "\n",
    "print(get_var_name(java))"
   ]
  },
  {
   "cell_type": "code",
   "execution_count": 9,
   "metadata": {},
   "outputs": [
    {
     "ename": "TypeError",
     "evalue": "time.mktime() takes exactly one argument (0 given)",
     "output_type": "error",
     "traceback": [
      "\u001b[1;31m---------------------------------------------------------------------------\u001b[0m",
      "\u001b[1;31mTypeError\u001b[0m                                 Traceback (most recent call last)",
      "Cell \u001b[1;32mIn[9], line 11\u001b[0m\n\u001b[0;32m      8\u001b[0m     convert_objs_to_seconds \u001b[38;5;241m=\u001b[39m [date \u001b[38;5;28;01mfor\u001b[39;00m date \u001b[38;5;129;01min\u001b[39;00m date_objs]\n\u001b[0;32m      9\u001b[0m     time\u001b[38;5;241m.\u001b[39mmktime()\n\u001b[1;32m---> 11\u001b[0m \u001b[43mtime_to_seconds\u001b[49m\u001b[43m(\u001b[49m\u001b[43ml\u001b[49m\u001b[43m,\u001b[49m\u001b[43m \u001b[49m\u001b[38;5;124;43m\"\u001b[39;49m\u001b[38;5;124;43m%\u001b[39;49m\u001b[38;5;124;43mH:\u001b[39;49m\u001b[38;5;124;43m%\u001b[39;49m\u001b[38;5;124;43mM:\u001b[39;49m\u001b[38;5;124;43m%\u001b[39;49m\u001b[38;5;124;43mS\u001b[39;49m\u001b[38;5;124;43m\"\u001b[39;49m\u001b[43m)\u001b[49m\n",
      "Cell \u001b[1;32mIn[9], line 9\u001b[0m, in \u001b[0;36mtime_to_seconds\u001b[1;34m(time_list, date_format)\u001b[0m\n\u001b[0;32m      7\u001b[0m date_objs \u001b[38;5;241m=\u001b[39m [datetime\u001b[38;5;241m.\u001b[39mstrptime(date, date_format) \u001b[38;5;28;01mfor\u001b[39;00m date \u001b[38;5;129;01min\u001b[39;00m time_list]\n\u001b[0;32m      8\u001b[0m convert_objs_to_seconds \u001b[38;5;241m=\u001b[39m [date \u001b[38;5;28;01mfor\u001b[39;00m date \u001b[38;5;129;01min\u001b[39;00m date_objs]\n\u001b[1;32m----> 9\u001b[0m \u001b[43mtime\u001b[49m\u001b[38;5;241;43m.\u001b[39;49m\u001b[43mmktime\u001b[49m\u001b[43m(\u001b[49m\u001b[43m)\u001b[49m\n",
      "\u001b[1;31mTypeError\u001b[0m: time.mktime() takes exactly one argument (0 given)"
     ]
    }
   ],
   "source": [
    "from datetime import datetime\n",
    "import time\n",
    "\n",
    "l = [\"11:10:00\", \"12:30:00\"]\n",
    "\n",
    "def time_to_seconds(time_list: list, date_format):\n",
    "    date_objs = [datetime.strptime(date, date_format) for date in time_list]\n",
    "    convert_objs_to_seconds = [date for date in date_objs]\n",
    "    time.mktime()\n",
    "\n",
    "time_to_seconds(l, \"%H:%M:%S\")"
   ]
  },
  {
   "cell_type": "code",
   "execution_count": 21,
   "metadata": {},
   "outputs": [
    {
     "name": "stdout",
     "output_type": "stream",
     "text": [
      "range(0, 1)\n"
     ]
    }
   ],
   "source": [
    "t = [2, 4]\n",
    "itera = range(len(t) - 1)\n",
    "print(itera)"
   ]
  },
  {
   "cell_type": "code",
   "execution_count": null,
   "metadata": {},
   "outputs": [
    {
     "name": "stdout",
     "output_type": "stream",
     "text": [
      "36600 41400\n"
     ]
    },
    {
     "ename": "ValueError",
     "evalue": "unconverted data remains: 600",
     "output_type": "error",
     "traceback": [
      "\u001b[1;31m---------------------------------------------------------------------------\u001b[0m",
      "\u001b[1;31mValueError\u001b[0m                                Traceback (most recent call last)",
      "Cell \u001b[1;32mIn[81], line 19\u001b[0m\n\u001b[0;32m     16\u001b[0m \u001b[38;5;28mprint\u001b[39m(entry_to_sec, exit_to_sec)\n\u001b[0;32m     18\u001b[0m \u001b[38;5;28;01mwhile\u001b[39;00m entry_to_sec \u001b[38;5;241m<\u001b[39m\u001b[38;5;241m=\u001b[39m exit_to_sec:\n\u001b[1;32m---> 19\u001b[0m     \u001b[38;5;28mprint\u001b[39m(\u001b[43mchnage_format\u001b[49m\u001b[43m(\u001b[49m\u001b[43mentry_to_sec\u001b[49m\u001b[43m,\u001b[49m\u001b[43m \u001b[49m\u001b[38;5;124;43m\"\u001b[39;49m\u001b[38;5;124;43m%\u001b[39;49m\u001b[38;5;124;43mS\u001b[39;49m\u001b[38;5;124;43m\"\u001b[39;49m\u001b[43m,\u001b[49m\u001b[43m \u001b[49m\u001b[38;5;124;43m\"\u001b[39;49m\u001b[38;5;124;43m%\u001b[39;49m\u001b[38;5;124;43mH:\u001b[39;49m\u001b[38;5;124;43m%\u001b[39;49m\u001b[38;5;124;43mM:\u001b[39;49m\u001b[38;5;124;43m%\u001b[39;49m\u001b[38;5;124;43mS\u001b[39;49m\u001b[38;5;124;43m\"\u001b[39;49m\u001b[43m)\u001b[49m)\n\u001b[0;32m     20\u001b[0m     entry_to_sec \u001b[38;5;241m+\u001b[39m\u001b[38;5;241m=\u001b[39m \u001b[38;5;241m60\u001b[39m\n",
      "Cell \u001b[1;32mIn[81], line 7\u001b[0m, in \u001b[0;36mchnage_format\u001b[1;34m(time, this_format, to_this_format)\u001b[0m\n\u001b[0;32m      6\u001b[0m \u001b[38;5;28;01mdef\u001b[39;00m \u001b[38;5;21mchnage_format\u001b[39m(time, this_format, to_this_format):\n\u001b[1;32m----> 7\u001b[0m     \u001b[38;5;28;01mreturn\u001b[39;00m datetime\u001b[38;5;241m.\u001b[39mstrftime(\u001b[43mdatetime\u001b[49m\u001b[38;5;241;43m.\u001b[39;49m\u001b[43mstrptime\u001b[49m\u001b[43m(\u001b[49m\u001b[38;5;28;43mstr\u001b[39;49m\u001b[43m(\u001b[49m\u001b[43mtime\u001b[49m\u001b[43m)\u001b[49m\u001b[43m,\u001b[49m\u001b[43m \u001b[49m\u001b[43mthis_format\u001b[49m\u001b[43m)\u001b[49m, to_this_format)\n",
      "File \u001b[1;32mC:\\Program Files\\WindowsApps\\PythonSoftwareFoundation.Python.3.13_3.13.496.0_x64__qbz5n2kfra8p0\\Lib\\_strptime.py:676\u001b[0m, in \u001b[0;36m_strptime_datetime\u001b[1;34m(cls, data_string, format)\u001b[0m\n\u001b[0;32m    673\u001b[0m \u001b[38;5;28;01mdef\u001b[39;00m \u001b[38;5;21m_strptime_datetime\u001b[39m(\u001b[38;5;28mcls\u001b[39m, data_string, \u001b[38;5;28mformat\u001b[39m\u001b[38;5;241m=\u001b[39m\u001b[38;5;124m\"\u001b[39m\u001b[38;5;132;01m%a\u001b[39;00m\u001b[38;5;124m \u001b[39m\u001b[38;5;124m%\u001b[39m\u001b[38;5;124mb \u001b[39m\u001b[38;5;132;01m%d\u001b[39;00m\u001b[38;5;124m \u001b[39m\u001b[38;5;124m%\u001b[39m\u001b[38;5;124mH:\u001b[39m\u001b[38;5;124m%\u001b[39m\u001b[38;5;124mM:\u001b[39m\u001b[38;5;124m%\u001b[39m\u001b[38;5;124mS \u001b[39m\u001b[38;5;124m%\u001b[39m\u001b[38;5;124mY\u001b[39m\u001b[38;5;124m\"\u001b[39m):\n\u001b[0;32m    674\u001b[0m \u001b[38;5;250m    \u001b[39m\u001b[38;5;124;03m\"\"\"Return a class cls instance based on the input string and the\u001b[39;00m\n\u001b[0;32m    675\u001b[0m \u001b[38;5;124;03m    format string.\"\"\"\u001b[39;00m\n\u001b[1;32m--> 676\u001b[0m     tt, fraction, gmtoff_fraction \u001b[38;5;241m=\u001b[39m \u001b[43m_strptime\u001b[49m\u001b[43m(\u001b[49m\u001b[43mdata_string\u001b[49m\u001b[43m,\u001b[49m\u001b[43m \u001b[49m\u001b[38;5;28;43mformat\u001b[39;49m\u001b[43m)\u001b[49m\n\u001b[0;32m    677\u001b[0m     tzname, gmtoff \u001b[38;5;241m=\u001b[39m tt[\u001b[38;5;241m-\u001b[39m\u001b[38;5;241m2\u001b[39m:]\n\u001b[0;32m    678\u001b[0m     args \u001b[38;5;241m=\u001b[39m tt[:\u001b[38;5;241m6\u001b[39m] \u001b[38;5;241m+\u001b[39m (fraction,)\n",
      "File \u001b[1;32mC:\\Program Files\\WindowsApps\\PythonSoftwareFoundation.Python.3.13_3.13.496.0_x64__qbz5n2kfra8p0\\Lib\\_strptime.py:458\u001b[0m, in \u001b[0;36m_strptime\u001b[1;34m(data_string, format)\u001b[0m\n\u001b[0;32m    455\u001b[0m     \u001b[38;5;28;01mraise\u001b[39;00m \u001b[38;5;167;01mValueError\u001b[39;00m(\u001b[38;5;124m\"\u001b[39m\u001b[38;5;124mtime data \u001b[39m\u001b[38;5;132;01m%r\u001b[39;00m\u001b[38;5;124m does not match format \u001b[39m\u001b[38;5;132;01m%r\u001b[39;00m\u001b[38;5;124m\"\u001b[39m \u001b[38;5;241m%\u001b[39m\n\u001b[0;32m    456\u001b[0m                      (data_string, \u001b[38;5;28mformat\u001b[39m))\n\u001b[0;32m    457\u001b[0m \u001b[38;5;28;01mif\u001b[39;00m \u001b[38;5;28mlen\u001b[39m(data_string) \u001b[38;5;241m!=\u001b[39m found\u001b[38;5;241m.\u001b[39mend():\n\u001b[1;32m--> 458\u001b[0m     \u001b[38;5;28;01mraise\u001b[39;00m \u001b[38;5;167;01mValueError\u001b[39;00m(\u001b[38;5;124m\"\u001b[39m\u001b[38;5;124munconverted data remains: \u001b[39m\u001b[38;5;132;01m%s\u001b[39;00m\u001b[38;5;124m\"\u001b[39m \u001b[38;5;241m%\u001b[39m\n\u001b[0;32m    459\u001b[0m                       data_string[found\u001b[38;5;241m.\u001b[39mend():])\n\u001b[0;32m    461\u001b[0m iso_year \u001b[38;5;241m=\u001b[39m year \u001b[38;5;241m=\u001b[39m \u001b[38;5;28;01mNone\u001b[39;00m\n\u001b[0;32m    462\u001b[0m month \u001b[38;5;241m=\u001b[39m day \u001b[38;5;241m=\u001b[39m \u001b[38;5;241m1\u001b[39m\n",
      "\u001b[1;31mValueError\u001b[0m: unconverted data remains: 600"
     ]
    }
   ],
   "source": [
    "from datetime import datetime, timedelta\n",
    "\n",
    "entry_time = [\"10:10:00\", \"10:20:00\", \"10:30:00\"]\n",
    "exit_time = [\"11:10:00\", \"11:20:00\", \"11:30:00\"]\n",
    "\n",
    "def chnage_format(time, this_format, to_this_format):\n",
    "    return datetime.strftime(datetime.strptime(str(time), this_format), to_this_format)\n",
    "\n",
    "def time_to_seconds(time_str: str) -> int:\n",
    "    time_obj = datetime.strptime(time_str, \"%H:%M:%S\").time()\n",
    "    return int(time_obj.hour) * 3600 + int(time_obj.minute) * 60 + int(time_obj.second)\n",
    "\n",
    "entry_to_sec = min([time_to_seconds(time) for time in entry_time])\n",
    "exit_to_sec = max([time_to_seconds(time) for time in exit_time])\n",
    "\n",
    "print(entry_to_sec, exit_to_sec)\n",
    "\n",
    "while entry_to_sec <= exit_to_sec:\n",
    "    print(chnage_format(entry_to_sec, \"%S\", \"%H:%M:%S\"))\n",
    "    entry_to_sec += 60"
   ]
  },
  {
   "cell_type": "code",
   "execution_count": 84,
   "metadata": {},
   "outputs": [
    {
     "name": "stdout",
     "output_type": "stream",
     "text": [
      "['12:30:00', '12:31:00', '12:32:00', '12:33:00', '12:34:00', '12:35:00', '12:36:00', '12:37:00', '12:38:00', '12:39:00', '12:40:00', '12:41:00', '12:42:00', '12:43:00', '12:44:00', '12:45:00', '12:46:00', '12:47:00', '12:48:00', '12:49:00', '12:50:00', '12:51:00', '12:52:00', '12:53:00', '12:54:00', '12:55:00', '12:56:00', '12:57:00', '12:58:00', '12:59:00', '13:00:00', '13:01:00', '13:02:00', '13:03:00', '13:04:00', '13:05:00', '13:06:00', '13:07:00', '13:08:00', '13:09:00', '13:10:00', '13:11:00', '13:12:00', '13:13:00', '13:14:00', '13:15:00', '13:16:00', '13:17:00', '13:18:00', '13:19:00', '13:20:00', '13:21:00', '13:22:00', '13:23:00', '13:24:00', '13:25:00', '13:26:00', '13:27:00', '13:28:00', '13:29:00', '13:30:00', '13:31:00', '13:32:00', '13:33:00', '13:34:00', '13:35:00', '13:36:00', '13:37:00', '13:38:00', '13:39:00', '13:40:00', '13:41:00', '13:42:00', '13:43:00', '13:44:00', '13:45:00', '13:46:00', '13:47:00', '13:48:00', '13:49:00', '13:50:00', '13:51:00', '13:52:00', '13:53:00', '13:54:00', '13:55:00', '13:56:00', '13:57:00', '13:58:00', '13:59:00', '14:00:00', '14:01:00', '14:02:00', '14:03:00', '14:04:00', '14:05:00', '14:06:00', '14:07:00', '14:08:00', '14:09:00', '14:10:00', '14:11:00', '14:12:00', '14:13:00', '14:14:00', '14:15:00', '14:16:00', '14:17:00', '14:18:00', '14:19:00', '14:20:00', '14:21:00', '14:22:00', '14:23:00', '14:24:00', '14:25:00', '14:26:00', '14:27:00', '14:28:00', '14:29:00', '14:30:00', '14:31:00', '14:32:00', '14:33:00', '14:34:00', '14:35:00', '14:36:00', '14:37:00', '14:38:00', '14:39:00', '14:40:00', '14:41:00', '14:42:00', '14:43:00', '14:44:00', '14:45:00', '14:46:00', '14:47:00', '14:48:00', '14:49:00', '14:50:00', '14:51:00', '14:52:00', '14:53:00', '14:54:00', '14:55:00', '14:56:00', '14:57:00', '14:58:00', '14:59:00', '15:00:00', '15:01:00', '15:02:00', '15:03:00', '15:04:00', '15:05:00', '15:06:00', '15:07:00', '15:08:00', '15:09:00', '15:10:00', '15:11:00', '15:12:00', '15:13:00', '15:14:00', '15:15:00', '15:16:00', '15:17:00', '15:18:00', '15:19:00', '15:20:00', '15:21:00', '15:22:00', '15:23:00', '15:24:00', '15:25:00', '15:26:00', '15:27:00', '15:28:00', '15:29:00', '15:30:00', '15:31:00', '15:32:00', '15:33:00', '15:34:00', '15:35:00', '15:36:00', '15:37:00', '15:38:00', '15:39:00', '15:40:00', '15:41:00', '15:42:00', '15:43:00', '15:44:00', '15:45:00', '15:46:00', '15:47:00', '15:48:00', '15:49:00', '15:50:00', '15:51:00', '15:52:00', '15:53:00', '15:54:00', '15:55:00', '15:56:00', '15:57:00', '15:58:00', '15:59:00', '16:00:00', '16:01:00', '16:02:00', '16:03:00', '16:04:00', '16:05:00', '16:06:00', '16:07:00', '16:08:00', '16:09:00', '16:10:00', '16:11:00', '16:12:00', '16:13:00', '16:14:00', '16:15:00', '16:16:00', '16:17:00', '16:18:00', '16:19:00', '16:20:00', '16:21:00', '16:22:00', '16:23:00', '16:24:00', '16:25:00', '16:26:00', '16:27:00', '16:28:00', '16:29:00', '16:30:00', '16:31:00', '16:32:00', '16:33:00', '16:34:00', '16:35:00', '16:36:00', '16:37:00', '16:38:00', '16:39:00', '16:40:00', '16:41:00', '16:42:00', '16:43:00', '16:44:00', '16:45:00', '16:46:00', '16:47:00', '16:48:00', '16:49:00', '16:50:00', '16:51:00', '16:52:00', '16:53:00', '16:54:00', '16:55:00', '16:56:00', '16:57:00', '16:58:00', '16:59:00', '17:00:00', '17:01:00', '17:02:00', '17:03:00', '17:04:00', '17:05:00', '17:06:00', '17:07:00', '17:08:00', '17:09:00', '17:10:00', '17:11:00', '17:12:00', '17:13:00', '17:14:00', '17:15:00', '17:16:00', '17:17:00', '17:18:00', '17:19:00', '17:20:00', '17:21:00', '17:22:00', '17:23:00', '17:24:00', '17:25:00', '17:26:00', '17:27:00', '17:28:00', '17:29:00', '17:30:00', '17:31:00', '17:32:00', '17:33:00', '17:34:00', '17:35:00', '17:36:00', '17:37:00', '17:38:00', '17:39:00', '17:40:00', '17:41:00', '17:42:00', '17:43:00', '17:44:00', '17:45:00', '17:46:00', '17:47:00', '17:48:00', '17:49:00', '17:50:00', '17:51:00', '17:52:00', '17:53:00', '17:54:00', '17:55:00', '17:56:00', '17:57:00', '17:58:00', '17:59:00', '18:00:00', '18:01:00', '18:02:00', '18:03:00', '18:04:00', '18:05:00', '18:06:00', '18:07:00', '18:08:00', '18:09:00', '18:10:00', '18:11:00', '18:12:00', '18:13:00', '18:14:00', '18:15:00', '18:16:00', '18:17:00', '18:18:00', '18:19:00', '18:20:00', '18:21:00', '18:22:00', '18:23:00', '18:24:00', '18:25:00', '18:26:00', '18:27:00', '18:28:00', '18:29:00', '18:30:00']\n"
     ]
    }
   ],
   "source": [
    "date_range = [\"12:30:00\", \"18:30:00\"]\n",
    "\n",
    "\n",
    "def get_available_time_range(date_range: list, date_format: str):\n",
    "    \"\"\"Generate a list of dates between a given range.\"\"\"\n",
    "    if len(date_range) > 2:\n",
    "        print(date_range[2:], \"out of range\")\n",
    "        raise \"please enter a date in range of 2......\"\n",
    "\n",
    "    from_date = datetime.strptime(date_range[0], date_format)\n",
    "    to_date = datetime.strptime(date_range[1], date_format)\n",
    "    dates = []\n",
    "    while from_date <= to_date:\n",
    "        dates.append(datetime.strftime(from_date, date_format))\n",
    "        from_date += timedelta(minutes=1)\n",
    "    return dates\n",
    "\n",
    "print(get_available_time_range(date_range, \"%H:%M:%S\"))"
   ]
  },
  {
   "cell_type": "code",
   "execution_count": 10,
   "metadata": {},
   "outputs": [
    {
     "data": {
      "text/plain": [
       "False"
      ]
     },
     "execution_count": 10,
     "metadata": {},
     "output_type": "execute_result"
    }
   ],
   "source": [
    "5 % 2 == 0"
   ]
  },
  {
   "cell_type": "code",
   "execution_count": 1,
   "metadata": {},
   "outputs": [],
   "source": [
    "def get_pNl(\n",
    "    datset_mapper,\n",
    "    entry_time,\n",
    "    exit_time,\n",
    "    contracts,\n",
    "    tread_actions,\n",
    "    targetList,\n",
    "    stop_lossList,\n",
    "    overall_target,\n",
    "    overall_stoploss,\n",
    "):\n",
    "    result = {}\n",
    "    \n",
    "    # Get the first date from dataset_mapper\n",
    "    first_date = next(iter(datset_mapper))\n",
    "    result[\"date\"] = first_date\n",
    "    result[\"contracts\"] = {}\n",
    "    \n",
    "    min_entry_time, max_exit_time = get_startagy_entry_exit_time(entry_time, exit_time)\n",
    "    time_range = get_available_time_range(\n",
    "        [\n",
    "            datetime.strftime(min_entry_time, \"%H:%M:%S\"),\n",
    "            datetime.strftime(max_exit_time, \"%H:%M:%S\"),\n",
    "        ],\n",
    "        \"%H:%M:%S\",\n",
    "    )\n",
    "\n",
    "    call_at_ones = True\n",
    "\n",
    "    for time in time_range:\n",
    "        for i, leg_entry_time in enumerate(entry_time):\n",
    "            leg_exit_time = exit_time[i]\n",
    "            contract = contracts[i]\n",
    "            option_type = contract[-2:]\n",
    "            open_price, high_price, low_price, close_price = map(\n",
    "                float, datset_mapper[first_date][option_type][contract][time]\n",
    "            )\n",
    "            \n",
    "            if contract not in result[\"contracts\"]:\n",
    "                result[\"contracts\"][contract] = {\n",
    "                    \"entry_time\": None,\n",
    "                    \"exit_time\": None,\n",
    "                    \"entry_price\": None,\n",
    "                    \"exit_price\": None,\n",
    "                    \"exit_reason\": None,\n",
    "                    \"target_price\": None,\n",
    "                    \"target_stoploss\": None,\n",
    "                    \"pnl\": None,\n",
    "                    \"currunt_close_price\": close_price  # Ensure this key is always set\n",
    "                }\n",
    "            else:\n",
    "                result[\"contracts\"][contract][\"currunt_close_price\"] = close_price\n",
    "            \n",
    "            if time == leg_entry_time:\n",
    "                print(f\"Entry recorded for {contract} at {time}\")\n",
    "                result[\"contracts\"][contract][\"entry_time\"] = time\n",
    "                result[\"contracts\"][contract][\"entry_price\"] = open_price\n",
    "            \n",
    "            elif time == leg_exit_time:\n",
    "                print(f\"Exit recorded for {contract} at {time}\")\n",
    "                result[\"contracts\"][contract][\"exit_time\"] = time\n",
    "                result[\"contracts\"][contract][\"exit_price\"] = close_price\n",
    "                \n",
    "            if result[\"contracts\"][contract][\"exit_time\"] is None:\n",
    "                print(f\"WARNING: Exit time not set for {contract} on {first_date}\")\n",
    "            \n",
    "        if call_at_ones:\n",
    "            total_investment = get_targets(result[\"contracts\"], contracts)\n",
    "            result[\"overall\"] = {\"overall_investment\": total_investment}\n",
    "            call_at_ones = False\n",
    "        \n",
    "        is_sq_off, updated_result = get_overall_sl_tgt(\n",
    "            result[\"contracts\"], contracts, total_investment, overall_target, overall_stoploss\n",
    "        )\n",
    "        \n",
    "        if is_sq_off:\n",
    "            result[\"contracts\"] = updated_result\n",
    "            break\n",
    "\n",
    "    return result\n"
   ]
  },
  {
   "cell_type": "code",
   "execution_count": null,
   "metadata": {},
   "outputs": [],
   "source": [
    "def strategic_trading(n, entry_time = [\"09:30 06/02/2023\", \"09:30 07/02/2023\"], exit_time = [\"15:30 06/02/2023\", \"15:30 07/02/2023\"],total_target = 15, total_stop_loss = 10, target= [10, 5], stop_loss= [5, 2.5], trade_action = [\"Buy\", \"Buy\"], option_type = [\"CE\", \"PE\"], strike = [\"ATM\", \"ATM -1\"], expiry = [\"weekly\", \"monthly\"]):\n",
    "    total_target, total_stop_loss = get_strategy_target_stop_loss(n,total_target,total_stop_loss,entry_time,strike,expiry,\"NIFTY-I\",option_type)\n",
    "    print(\"total_target: \", total_target, \"total_stop_loss: \", total_stop_loss)\n",
    "    total_pnl = (0,0)\n",
    "    leg_status  = {\n",
    "        \"leg_1\": 1,\n",
    "        \"leg_2\": 1 \n",
    "    }\n",
    "\n",
    "    temp_exit_time = entry_time[0]\n",
    "    while True:\n",
    "        print(\"current date: \", temp_exit_time, \"\\n\")\n",
    "        if leg_status['leg_1']:\n",
    "            profit, exit_flag = cal_profit(entry_time[0],temp_exit_time,target[0],stop_loss[0],\"NIFTY-I\",option_type[0],trade_action[0],strike[0],expiry[0])\n",
    "            total_pnl[0] = profit[0]\n",
    "            if 1 in exit_flag:\n",
    "                leg_status[\"leg_1\"] = 0\n",
    "\n",
    "        if leg_status[\"leg_2\"]:\n",
    "            profit, exit_flag = cal_profit(entry_time[1],temp_exit_time,target[1],stop_loss[1],\"NIFTY-I\",option_type[1],trade_action[1],strike[1],expiry[1])\n",
    "            total_pnl[1] = profit[0]\n",
    "            if 1 in exit_flag:\n",
    "                leg_status[\"leg_2\"] = 0 \n",
    "\n",
    "        if (total_pnl >= total_target) or (total_pnl < total_stop_loss):\n",
    "            break \n",
    "\n",
    "        if (leg_status[\"leg_1\"] == 0 and leg_status[\"leg_2\"] == 0):\n",
    "            break\n",
    "\n",
    "        if temp_exit_time in exit_time:\n",
    "            break\n",
    "\n",
    "        temp_exit_time = get_next_time(temp_exit_time)\n",
    "\n",
    "        print(\"current total pnl: \", total_pnl,\"\\n\")\n",
    "\n",
    "    print(\"total_pnl\", total_pnl)\n",
    "\n",
    "strategic_trading(n = 2)"
   ]
  },
  {
   "cell_type": "code",
   "execution_count": 2,
   "metadata": {},
   "outputs": [
    {
     "name": "stdout",
     "output_type": "stream",
     "text": [
      "['a']\n"
     ]
    }
   ],
   "source": [
    "def r():\n",
    "    a = [\"a\"]\n",
    "    b = [\"b\"]\n",
    "    return [a, b]\n",
    "\n",
    "one, two = r()\n",
    "\n",
    "print(one)"
   ]
  },
  {
   "cell_type": "code",
   "execution_count": 3,
   "metadata": {},
   "outputs": [
    {
     "name": "stdout",
     "output_type": "stream",
     "text": [
      "SWECWEC\n"
     ]
    }
   ],
   "source": []
  }
 ],
 "metadata": {
  "kernelspec": {
   "display_name": "Python 3",
   "language": "python",
   "name": "python3"
  },
  "language_info": {
   "codemirror_mode": {
    "name": "ipython",
    "version": 3
   },
   "file_extension": ".py",
   "mimetype": "text/x-python",
   "name": "python",
   "nbconvert_exporter": "python",
   "pygments_lexer": "ipython3",
   "version": "3.13.1"
  }
 },
 "nbformat": 4,
 "nbformat_minor": 2
}
