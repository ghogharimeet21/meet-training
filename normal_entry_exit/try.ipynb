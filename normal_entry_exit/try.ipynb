{
 "cells": [
  {
   "cell_type": "code",
   "execution_count": 4,
   "metadata": {},
   "outputs": [
    {
     "name": "stdout",
     "output_type": "stream",
     "text": [
      "206\n",
      "this is Entry Time\n"
     ]
    }
   ],
   "source": [
    "l = {\n",
    "    \"202563\":{\n",
    "        \"entryTime\":\"EntryTime\",\n",
    "        \"entryPrice\":\"EntryPrice\",\n",
    "\n",
    "        \"exitTime\":\"ExitTime\",\n",
    "        \"exitPrice\":\"ExitPrice\"\n",
    "    },\n",
    "    \"526585\":{\n",
    "        \"entryTime\":\"EntryTime\",\n",
    "        \"entryPrice\":\"EntryPrice\",\n",
    "\n",
    "        \"exitTime\":\"ExitTime\",\n",
    "        \"exitPrice\":\"ExitPrice\"\n",
    "    }\n",
    "}\n",
    "\n",
    "l[\"202563\"][\"entryTime\"] = 206\n",
    "l[\"526585\"][\"entryTime\"] = \"this is Entry Time\"\n",
    "\n",
    "print(l[\"202563\"][\"entryTime\"])\n",
    "\n",
    "print(l['526585']['entryTime'])"
   ]
  }
 ],
 "metadata": {
  "kernelspec": {
   "display_name": "Python 3",
   "language": "python",
   "name": "python3"
  },
  "language_info": {
   "codemirror_mode": {
    "name": "ipython",
    "version": 3
   },
   "file_extension": ".py",
   "mimetype": "text/x-python",
   "name": "python",
   "nbconvert_exporter": "python",
   "pygments_lexer": "ipython3",
   "version": "3.13.1"
  }
 },
 "nbformat": 4,
 "nbformat_minor": 2
}
