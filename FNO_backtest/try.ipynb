{
 "cells": [
  {
   "cell_type": "code",
   "execution_count": 2,
   "metadata": {},
   "outputs": [
    {
     "name": "stdout",
     "output_type": "stream",
     "text": [
      "4\n"
     ]
    }
   ],
   "source": [
    "s = \"BANKNIFTY\"\n",
    "\n",
    "print(s.find(\"NIFTY\"))"
   ]
  },
  {
   "cell_type": "code",
   "execution_count": 3,
   "metadata": {},
   "outputs": [],
   "source": [
    "def get_nearest_price(data: list, entryPrice):\n",
    "    all_prices = []\n",
    "    for row in data:\n",
    "        price = row[\"strike_price\"]\n",
    "        all_prices.append(price)\n",
    "    \n",
    "    return all_prices[min(range(len(all_prices)), key = lambda i: abs(all_prices[i]-entryPrice))]"
   ]
  },
  {
   "cell_type": "code",
   "execution_count": 4,
   "metadata": {},
   "outputs": [
    {
     "name": "stdout",
     "output_type": "stream",
     "text": [
      "2.000608444213867\n"
     ]
    }
   ],
   "source": [
    "import time\n",
    "\n",
    "t1= time.time()\n",
    "\n",
    "time.sleep(2)\n",
    "\n",
    "t2 = time.time()\n",
    "\n",
    "dif = t2-t1\n",
    "\n",
    "print(dif)"
   ]
  },
  {
   "cell_type": "code",
   "execution_count": 5,
   "metadata": {},
   "outputs": [
    {
     "ename": "ValueError",
     "evalue": "Incorrect data format, should be YYYY-MM-DD",
     "output_type": "error",
     "traceback": [
      "\u001b[1;31m---------------------------------------------------------------------------\u001b[0m",
      "\u001b[1;31mValueError\u001b[0m                                Traceback (most recent call last)",
      "Cell \u001b[1;32mIn[5], line 4\u001b[0m, in \u001b[0;36mvalidate\u001b[1;34m(date_text)\u001b[0m\n\u001b[0;32m      3\u001b[0m \u001b[38;5;28;01mtry\u001b[39;00m:\n\u001b[1;32m----> 4\u001b[0m     res \u001b[38;5;241m=\u001b[39m \u001b[43mdatetime\u001b[49m\u001b[38;5;241;43m.\u001b[39;49m\u001b[43mdate\u001b[49m\u001b[38;5;241;43m.\u001b[39;49m\u001b[43mfromisoformat\u001b[49m\u001b[43m(\u001b[49m\u001b[43mdate_text\u001b[49m\u001b[43m)\u001b[49m\n\u001b[0;32m      5\u001b[0m \u001b[38;5;28;01mexcept\u001b[39;00m \u001b[38;5;167;01mValueError\u001b[39;00m:\n",
      "\u001b[1;31mValueError\u001b[0m: month must be in 1..12",
      "\nDuring handling of the above exception, another exception occurred:\n",
      "\u001b[1;31mValueError\u001b[0m                                Traceback (most recent call last)",
      "Cell \u001b[1;32mIn[5], line 8\u001b[0m\n\u001b[0;32m      6\u001b[0m             \u001b[38;5;28;01mraise\u001b[39;00m \u001b[38;5;167;01mValueError\u001b[39;00m(\u001b[38;5;124m\"\u001b[39m\u001b[38;5;124mIncorrect data format, should be YYYY-MM-DD\u001b[39m\u001b[38;5;124m\"\u001b[39m)\n\u001b[0;32m      7\u001b[0m         \u001b[38;5;28;01mreturn\u001b[39;00m res\n\u001b[1;32m----> 8\u001b[0m \u001b[43mvalidate\u001b[49m\u001b[43m(\u001b[49m\u001b[38;5;124;43m'\u001b[39;49m\u001b[38;5;124;43m08032023\u001b[39;49m\u001b[38;5;124;43m'\u001b[39;49m\u001b[43m)\u001b[49m\n",
      "Cell \u001b[1;32mIn[5], line 6\u001b[0m, in \u001b[0;36mvalidate\u001b[1;34m(date_text)\u001b[0m\n\u001b[0;32m      4\u001b[0m     res \u001b[38;5;241m=\u001b[39m datetime\u001b[38;5;241m.\u001b[39mdate\u001b[38;5;241m.\u001b[39mfromisoformat(date_text)\n\u001b[0;32m      5\u001b[0m \u001b[38;5;28;01mexcept\u001b[39;00m \u001b[38;5;167;01mValueError\u001b[39;00m:\n\u001b[1;32m----> 6\u001b[0m     \u001b[38;5;28;01mraise\u001b[39;00m \u001b[38;5;167;01mValueError\u001b[39;00m(\u001b[38;5;124m\"\u001b[39m\u001b[38;5;124mIncorrect data format, should be YYYY-MM-DD\u001b[39m\u001b[38;5;124m\"\u001b[39m)\n\u001b[0;32m      7\u001b[0m \u001b[38;5;28;01mreturn\u001b[39;00m res\n",
      "\u001b[1;31mValueError\u001b[0m: Incorrect data format, should be YYYY-MM-DD"
     ]
    }
   ],
   "source": [
    "import datetime\n",
    "def validate(date_text):\n",
    "        try:\n",
    "            res = datetime.date.fromisoformat(date_text)\n",
    "        except ValueError:\n",
    "            raise ValueError(\"Incorrect data format, should be YYYY-MM-DD\")\n",
    "        return res\n",
    "validate('08032023')"
   ]
  },
  {
   "cell_type": "code",
   "execution_count": 8,
   "metadata": {},
   "outputs": [],
   "source": [
    "from datetime import datetime\n",
    "\n",
    "def validateTime(format):\n",
    "    datetime_combinations = [\n",
    "    \"%y-%m-%d\",\n",
    "    \"%y%m%d\",\n",
    "    \"%Y%m%d\",\n",
    "    \"%Y-%m-%d\",\n",
    "    \"%d-%m-%Y\",   \n",
    "    \"%m-%d-%Y\",   \n",
    "    \"%d/%m/%y\",   \n",
    "    \"%m/%d/%Y\",   \n",
    "    \"%b %d, %Y\",  \n",
    "    \"%B %d, %Y\",  \n",
    "    \"%d %B %Y\",   \n",
    "    \"%Y/%m/%d\",   \n",
    "    \"%A, %d %B %Y\"\n",
    "    \"%d-%b-%Y\",   \n",
    "    \"%y.%m.%d\",   \n",
    "    \"%Y.%m.%d\",   \n",
    "    \"%d.%m.%Y\",   \n",
    "]\n",
    "\n",
    "    if format in datetime_combinations:\n",
    "        return datetime.strptime(format)"
   ]
  },
  {
   "cell_type": "code",
   "execution_count": 12,
   "metadata": {},
   "outputs": [
    {
     "name": "stdout",
     "output_type": "stream",
     "text": [
      "475\n"
     ]
    }
   ],
   "source": [
    "l = [5, 74, 9, 5, 6, 3, 4, 85, 59, 63, 58, 475]\n",
    "\n",
    "spotPrice = 25\n",
    "\n",
    "for n in l:\n",
    "    near = None\n",
    "    if n > ():\n",
    "        near = n\n",
    "\n",
    "print(near)"
   ]
  },
  {
   "cell_type": "code",
   "execution_count": 19,
   "metadata": {},
   "outputs": [
    {
     "name": "stdout",
     "output_type": "stream",
     "text": [
      "Computed date : 2025-12-30\n"
     ]
    }
   ],
   "source": [
    "from dateutil import parser\n",
    "\n",
    "stre = \"NIFTY30DEC2718000PE\"\n",
    "\n",
    "res = parser.parse(stre, fuzzy=True)\n",
    "\n",
    "print(\"Computed date : \" + str(res)[:10])"
   ]
  },
  {
   "cell_type": "code",
   "execution_count": 39,
   "metadata": {},
   "outputs": [
    {
     "name": "stdout",
     "output_type": "stream",
     "text": [
      "[]\n"
     ]
    }
   ],
   "source": [
    "import re\n",
    "\n",
    "strx = \"NIFTY30DEC2718000PE\"\n",
    "\n",
    "date = re.findall(r\"\\b(\\d{2})([A-Z]{3})(\\d{2})\\b\", strx)\n",
    "\n",
    "print(date)"
   ]
  },
  {
   "cell_type": "code",
   "execution_count": 40,
   "metadata": {},
   "outputs": [
    {
     "name": "stdout",
     "output_type": "stream",
     "text": [
      "No dates found\n"
     ]
    }
   ],
   "source": [
    "import re\n",
    "\n",
    "# Input string\n",
    "text = \"NIFTY30DEC2718000PE\"\n",
    "\n",
    "# Regular expression pattern\n",
    "pattern = r\"\\b\\d{2}[A-Z]{3}\\d{2}\\b\"\n",
    "\n",
    "# Finding all matches\n",
    "matches = re.findall(pattern, text)\n",
    "if matches:\n",
    "    for match in matches:\n",
    "        print(f\"Date found: {match}\")\n",
    "else:\n",
    "    print(\"No dates found\")"
   ]
  },
  {
   "cell_type": "code",
   "execution_count": 42,
   "metadata": {},
   "outputs": [
    {
     "name": "stdout",
     "output_type": "stream",
     "text": [
      "No date found\n"
     ]
    }
   ],
   "source": [
    "import re\n",
    "\n",
    "# Input string\n",
    "text = \"NIFTY30DEC2718000PR\"\n",
    "\n",
    "# Regular expression pattern for strings starting with \"NIFTY\"\n",
    "pattern = r\"\\bNIFTY.*?(\\d{2}[A-Z]{3}\\d{2})\\b\"\n",
    "\n",
    "# Searching for the date\n",
    "match = re.search(pattern, text)\n",
    "if match:\n",
    "    date = match.group(1)  # Extracts the full date\n",
    "    print(f\"Date found: {date}\")\n",
    "else:\n",
    "    print(\"No date found\")"
   ]
  },
  {
   "cell_type": "code",
   "execution_count": 50,
   "metadata": {},
   "outputs": [
    {
     "name": "stdout",
     "output_type": "stream",
     "text": [
      "The given string is\n",
      "NIFTY30DEC2718000PR\n",
      "The date present in the string is\n",
      "2025-12-30 00:00:00\n"
     ]
    }
   ],
   "source": [
    "from dateutil import parser\n",
    "str1 = \"NIFTY30DEC2718000PR\"\n",
    "\n",
    "print(\"The given string is\")\n",
    "print(str1)\n",
    "\n",
    "date = parser.parse(str1, fuzzy=True)\n",
    "print(\"The date present in the string is\")\n",
    "print(str(date))"
   ]
  },
  {
   "cell_type": "code",
   "execution_count": 3,
   "metadata": {},
   "outputs": [
    {
     "name": "stdout",
     "output_type": "stream",
     "text": [
      "6\n"
     ]
    }
   ],
   "source": [
    "def takeClosest(num,collection):\n",
    "    return min(collection,key=lambda x:abs(x-num))\n",
    "\n",
    "\n",
    "print(takeClosest(5, [8, 6, 4, 12, 10, 54, 65]))"
   ]
  },
  {
   "cell_type": "code",
   "execution_count": 44,
   "metadata": {},
   "outputs": [
    {
     "name": "stdout",
     "output_type": "stream",
     "text": [
      "25DEC23\n",
      "2023-12-25 00:00:00\n"
     ]
    }
   ],
   "source": [
    "from datetime import datetime\n",
    "\n",
    "dates = [\"21OCT24\", \"25DEC23\", \"09MAR25\", \"11JAN26\"]\n",
    "\n",
    "datesobj = []\n",
    "\n",
    "for date in dates:\n",
    "    dateobj = datetime.strptime(date, \"%d%b%y\")\n",
    "    datesobj.append(dateobj)\n",
    "\n",
    "\n",
    "nearestDate = datetime.strftime(min(datesobj), \"%d%b%y\").upper()\n",
    "\n",
    "print(nearestDate)\n",
    "print(min(datesobj))"
   ]
  },
  {
   "cell_type": "code",
   "execution_count": 8,
   "metadata": {},
   "outputs": [
    {
     "name": "stdout",
     "output_type": "stream",
     "text": [
      "25DEC23\n"
     ]
    }
   ],
   "source": [
    "from datetime import datetime\n",
    "def get_smallest_expiry(all_expiry):\n",
    "    dateobjs = []\n",
    "    for date in all_expiry:\n",
    "        dateobj = datetime.strptime(date, \"%d%b%y\")\n",
    "        dateobjs.append(dateobj)\n",
    "    nearestDate = datetime.strftime(min(dateobjs), \"%d%b%y\").upper()\n",
    "\n",
    "    print(nearestDate)\n",
    "    ...\n",
    "\n",
    "get_smallest_expiry([\"21OCT24\", \"25DEC23\", \"09MAR25\", \"11JAN26\"])"
   ]
  }
 ],
 "metadata": {
  "kernelspec": {
   "display_name": "Python 3",
   "language": "python",
   "name": "python3"
  },
  "language_info": {
   "codemirror_mode": {
    "name": "ipython",
    "version": 3
   },
   "file_extension": ".py",
   "mimetype": "text/x-python",
   "name": "python",
   "nbconvert_exporter": "python",
   "pygments_lexer": "ipython3",
   "version": "3.13.1"
  }
 },
 "nbformat": 4,
 "nbformat_minor": 2
}
