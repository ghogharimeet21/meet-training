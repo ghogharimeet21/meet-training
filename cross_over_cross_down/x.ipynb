{
 "cells": [
  {
   "cell_type": "code",
   "execution_count": 2,
   "metadata": {},
   "outputs": [
    {
     "name": "stdout",
     "output_type": "stream",
     "text": [
      "09:15:00\n"
     ]
    }
   ],
   "source": [
    "import time\n",
    "\n",
    "seconds = 33300\n",
    "\n",
    "convert = time.strftime(\"%H:%M:%S\", time.gmtime(seconds))\n",
    "\n",
    "print(convert)"
   ]
  },
  {
   "cell_type": "code",
   "execution_count": 2,
   "metadata": {},
   "outputs": [
    {
     "name": "stdout",
     "output_type": "stream",
     "text": [
      "('data', 'set')\n",
      "None\n"
     ]
    }
   ],
   "source": [
    "def data(*args):\n",
    "    print(args)\n",
    "\n",
    "print(data(\"data\", \"set\"))"
   ]
  },
  {
   "cell_type": "code",
   "execution_count": 7,
   "metadata": {},
   "outputs": [
    {
     "name": "stdout",
     "output_type": "stream",
     "text": [
      "0\n"
     ]
    }
   ],
   "source": [
    "count = 0\n",
    "\n",
    "++count\n",
    "\n",
    "print(count)"
   ]
  },
  {
   "cell_type": "code",
   "execution_count": 10,
   "metadata": {},
   "outputs": [
    {
     "name": "stdout",
     "output_type": "stream",
     "text": [
      "[1.5, 2.5, 5.0, 8.0]\n"
     ]
    }
   ],
   "source": [
    "\n",
    "# Program to calculate moving average\n",
    "arr = [1, 2, 3, 7, 9]\n",
    "window_size = 2\n",
    "\n",
    "i = 0\n",
    "# Initialize an empty list to store moving averages\n",
    "moving_averages = []\n",
    "\n",
    "# Loop through the array to consider\n",
    "# every window of size 3\n",
    "while i < len(arr) - window_size + 1:\n",
    "\n",
    "    # Store elements from i to i+window_size\n",
    "    # in list to get the current window\n",
    "    window = arr[i : i + window_size]\n",
    "\n",
    "    # Calculate the average of current window\n",
    "    window_average = round(sum(window) / window_size, 2)\n",
    "    \n",
    "    # Store the average of current\n",
    "    # window in moving average list\n",
    "    moving_averages.append(window_average)\n",
    "    \n",
    "    # Shift window to right by one position\n",
    "    i += 1\n",
    "\n",
    "print(moving_averages)"
   ]
  },
  {
   "cell_type": "code",
   "execution_count": 19,
   "metadata": {},
   "outputs": [
    {
     "name": "stdout",
     "output_type": "stream",
     "text": [
      "1\n",
      "<class 'int'>\n",
      "2\n",
      "<class 'int'>\n",
      "3\n",
      "<class 'int'>\n",
      "4\n",
      "<class 'int'>\n",
      "5\n",
      "<class 'int'>\n",
      "6\n",
      "<class 'int'>\n",
      "7\n",
      "<class 'int'>\n",
      "8\n",
      "<class 'int'>\n",
      "9\n",
      "<class 'int'>\n",
      "10\n",
      "<class 'int'>\n"
     ]
    }
   ],
   "source": [
    "s = list(range(10))\n",
    "\n",
    "for i in s:\n",
    "    print(i+1)\n",
    "    print(type(i))"
   ]
  },
  {
   "cell_type": "code",
   "execution_count": 1,
   "metadata": {},
   "outputs": [
    {
     "name": "stdout",
     "output_type": "stream",
     "text": [
      "cwd /home/nexus/Desktop/office/meet-training/cross_over_cross_down\n"
     ]
    }
   ],
   "source": [
    "import os\n",
    "\n",
    "cwd = os.getcwd()\n",
    "print(\"cwd\", cwd)"
   ]
  }
 ],
 "metadata": {
  "kernelspec": {
   "display_name": "Python 3",
   "language": "python",
   "name": "python3"
  },
  "language_info": {
   "codemirror_mode": {
    "name": "ipython",
    "version": 3
   },
   "file_extension": ".py",
   "mimetype": "text/x-python",
   "name": "python",
   "nbconvert_exporter": "python",
   "pygments_lexer": "ipython3",
   "version": "3.12.3"
  }
 },
 "nbformat": 4,
 "nbformat_minor": 2
}
